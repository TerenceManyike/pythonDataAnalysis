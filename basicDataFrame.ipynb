{
 "cells": [
  {
   "cell_type": "code",
   "execution_count": 1,
   "id": "c773e14a",
   "metadata": {},
   "outputs": [],
   "source": [
    "import os"
   ]
  },
  {
   "cell_type": "code",
   "execution_count": 2,
   "id": "310f0d6b",
   "metadata": {},
   "outputs": [
    {
     "data": {
      "text/plain": [
       "'/home/dev/Documents/pythonDataAnalysis'"
      ]
     },
     "execution_count": 2,
     "metadata": {},
     "output_type": "execute_result"
    }
   ],
   "source": [
    "os.getcwd()"
   ]
  },
  {
   "cell_type": "markdown",
   "id": "78d12534",
   "metadata": {},
   "source": [
    "# Creating a dataFrame from an array"
   ]
  },
  {
   "cell_type": "code",
   "execution_count": 1,
   "id": "6356dc8e",
   "metadata": {},
   "outputs": [],
   "source": [
    "import pandas as pd\n",
    "import numpy as np"
   ]
  },
  {
   "cell_type": "code",
   "execution_count": 2,
   "id": "2ad710b5",
   "metadata": {},
   "outputs": [],
   "source": [
    "my_array_data = [[4,5,1], [44,4,4], [3,3,44]]"
   ]
  },
  {
   "cell_type": "code",
   "execution_count": 4,
   "id": "058b4f90",
   "metadata": {},
   "outputs": [
    {
     "data": {
      "text/plain": [
       "array([[ 4,  5,  1],\n",
       "       [44,  4,  4],\n",
       "       [ 3,  3, 44]])"
      ]
     },
     "execution_count": 4,
     "metadata": {},
     "output_type": "execute_result"
    }
   ],
   "source": [
    "numpy_array = np.array(my_array_data)\n",
    "numpy_array"
   ]
  },
  {
   "cell_type": "code",
   "execution_count": 11,
   "id": "61e050e0",
   "metadata": {},
   "outputs": [
    {
     "data": {
      "text/html": [
       "<div>\n",
       "<style scoped>\n",
       "    .dataframe tbody tr th:only-of-type {\n",
       "        vertical-align: middle;\n",
       "    }\n",
       "\n",
       "    .dataframe tbody tr th {\n",
       "        vertical-align: top;\n",
       "    }\n",
       "\n",
       "    .dataframe thead th {\n",
       "        text-align: right;\n",
       "    }\n",
       "</style>\n",
       "<table border=\"1\" class=\"dataframe\">\n",
       "  <thead>\n",
       "    <tr style=\"text-align: right;\">\n",
       "      <th></th>\n",
       "      <th>column_1</th>\n",
       "      <th>column_2</th>\n",
       "      <th>column_3</th>\n",
       "    </tr>\n",
       "  </thead>\n",
       "  <tbody>\n",
       "    <tr>\n",
       "      <th>one</th>\n",
       "      <td>4</td>\n",
       "      <td>5</td>\n",
       "      <td>1</td>\n",
       "    </tr>\n",
       "    <tr>\n",
       "      <th>two</th>\n",
       "      <td>44</td>\n",
       "      <td>4</td>\n",
       "      <td>4</td>\n",
       "    </tr>\n",
       "    <tr>\n",
       "      <th>three</th>\n",
       "      <td>3</td>\n",
       "      <td>3</td>\n",
       "      <td>44</td>\n",
       "    </tr>\n",
       "  </tbody>\n",
       "</table>\n",
       "</div>"
      ],
      "text/plain": [
       "       column_1  column_2  column_3\n",
       "one           4         5         1\n",
       "two          44         4         4\n",
       "three         3         3        44"
      ]
     },
     "execution_count": 11,
     "metadata": {},
     "output_type": "execute_result"
    }
   ],
   "source": [
    "array_dataframe = pd.DataFrame(numpy_array, index=['one', 'two', 'three'],\n",
    "                              columns=['column_1', 'column_2', 'column_3'])\n",
    "array_dataframe"
   ]
  },
  {
   "cell_type": "markdown",
   "id": "99a82790",
   "metadata": {},
   "source": [
    "# Creating a dataFrame using a dictionary"
   ]
  },
  {
   "cell_type": "code",
   "execution_count": 13,
   "id": "55c24930",
   "metadata": {},
   "outputs": [],
   "source": [
    "countries = ['Angola', 'Nigeria', 'Botswana', 'South Africa']\n",
    "population = [43000000, 100000000, 23000000, 60000000]\n",
    "official_languages = [7, 10, 8, 12]"
   ]
  },
  {
   "cell_type": "code",
   "execution_count": 14,
   "id": "7415f348",
   "metadata": {},
   "outputs": [
    {
     "data": {
      "text/plain": [
       "{'Countries': ['Angola', 'Nigeria', 'Botswana', 'South Africa'],\n",
       " 'Population': [43000000, 100000000, 23000000, 60000000],\n",
       " 'Official Languages': [7, 10, 8, 12]}"
      ]
     },
     "execution_count": 14,
     "metadata": {},
     "output_type": "execute_result"
    }
   ],
   "source": [
    "my_dictionary = {'Countries': countries, \n",
    "                 'Population': population, \n",
    "                 'Official Languages': official_languages\n",
    "                }\n",
    "my_dictionary"
   ]
  },
  {
   "cell_type": "code",
   "execution_count": 16,
   "id": "3b38769e",
   "metadata": {},
   "outputs": [
    {
     "data": {
      "text/html": [
       "<div>\n",
       "<style scoped>\n",
       "    .dataframe tbody tr th:only-of-type {\n",
       "        vertical-align: middle;\n",
       "    }\n",
       "\n",
       "    .dataframe tbody tr th {\n",
       "        vertical-align: top;\n",
       "    }\n",
       "\n",
       "    .dataframe thead th {\n",
       "        text-align: right;\n",
       "    }\n",
       "</style>\n",
       "<table border=\"1\" class=\"dataframe\">\n",
       "  <thead>\n",
       "    <tr style=\"text-align: right;\">\n",
       "      <th></th>\n",
       "      <th>Countries</th>\n",
       "      <th>Population</th>\n",
       "      <th>Official Languages</th>\n",
       "    </tr>\n",
       "  </thead>\n",
       "  <tbody>\n",
       "    <tr>\n",
       "      <th>0</th>\n",
       "      <td>Angola</td>\n",
       "      <td>43000000</td>\n",
       "      <td>7</td>\n",
       "    </tr>\n",
       "    <tr>\n",
       "      <th>1</th>\n",
       "      <td>Nigeria</td>\n",
       "      <td>100000000</td>\n",
       "      <td>10</td>\n",
       "    </tr>\n",
       "    <tr>\n",
       "      <th>2</th>\n",
       "      <td>Botswana</td>\n",
       "      <td>23000000</td>\n",
       "      <td>8</td>\n",
       "    </tr>\n",
       "    <tr>\n",
       "      <th>3</th>\n",
       "      <td>South Africa</td>\n",
       "      <td>60000000</td>\n",
       "      <td>12</td>\n",
       "    </tr>\n",
       "  </tbody>\n",
       "</table>\n",
       "</div>"
      ],
      "text/plain": [
       "      Countries  Population  Official Languages\n",
       "0        Angola    43000000                   7\n",
       "1       Nigeria   100000000                  10\n",
       "2      Botswana    23000000                   8\n",
       "3  South Africa    60000000                  12"
      ]
     },
     "execution_count": 16,
     "metadata": {},
     "output_type": "execute_result"
    }
   ],
   "source": [
    "dictionary_dataframe = pd.DataFrame(my_dictionary)\n",
    "dictionary_dataframe"
   ]
  },
  {
   "cell_type": "markdown",
   "id": "afce1022",
   "metadata": {},
   "source": []
  }
 ],
 "metadata": {
  "kernelspec": {
   "display_name": "Python 3 (ipykernel)",
   "language": "python",
   "name": "python3"
  },
  "language_info": {
   "codemirror_mode": {
    "name": "ipython",
    "version": 3
   },
   "file_extension": ".py",
   "mimetype": "text/x-python",
   "name": "python",
   "nbconvert_exporter": "python",
   "pygments_lexer": "ipython3",
   "version": "3.10.12"
  }
 },
 "nbformat": 4,
 "nbformat_minor": 5
}
